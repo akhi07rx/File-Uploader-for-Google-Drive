{
  "cells": [
    {
      "attachments": {},
      "cell_type": "markdown",
      "metadata": {
        "colab_type": "text",
        "id": "view-in-github"
      },
      "source": [
        "<a href=\"https://colab.research.google.com/github/akhi07rx/File-Uploader-for-Google-Drive/blob/main/File_Uploader_for_Google_Drive_V_1_217B.ipynb\" target=\"_parent\"><img src=\"https://colab.research.google.com/assets/colab-badge.svg\" alt=\"Open In Colab\"/></a>"
      ]
    },
    {
      "cell_type": "code",
      "execution_count": null,
      "metadata": {
        "id": "Cd_zws8zoEIc"
      },
      "outputs": [
        {
          "ename": "",
          "evalue": "",
          "output_type": "error",
          "traceback": [
            "\u001b[1;31mRunning cells with 'c:\\msys64\\mingw64\\bin\\python.exe' requires the ipykernel package.\n",
            "\u001b[1;31mRun the following command to install 'ipykernel' into the Python environment. \n",
            "\u001b[1;31mCommand: 'c:/msys64/mingw64/bin/python.exe -m pip install ipykernel -U --user --force-reinstall'"
          ]
        }
      ],
      "source": [
        "from tqdm import tqdm\n",
        "import requests\n",
        "from google.colab import drive\n",
        "import os\n",
        "from urllib.parse import urlparse, unquote\n",
        "import os.path\n",
        "import sys\n",
        "import time\n",
        "\n",
        "drive.mount('/content/drive')\n",
        "\n",
        "# Define the destination folder in Google Drive\n",
        "destination_folder = '/content/drive/MyDrive/Downloads/'\n",
        "\n",
        "# Create the destination folder if it doesn't exist\n",
        "if not os.path.exists(destination_folder):\n",
        "    os.makedirs(destination_folder)\n",
        "\n",
        "try:\n",
        "    while True:\n",
        "        try:\n",
        "            user_input = input(\"\\n\\nEnter the download link (or 'exit' to quit): \")\n",
        "        except KeyboardInterrupt:\n",
        "            print(\"\\nKeyboard interrupt detected. Exiting the program.\")\n",
        "            break\n",
        "\n",
        "        if user_input.lower() == 'exit':\n",
        "            break\n",
        "\n",
        "        try:\n",
        "            response = requests.get(user_input, stream=True)\n",
        "            response.raise_for_status()\n",
        "        except requests.exceptions.MissingSchema:\n",
        "            print(\"You have entered a wrong command. Please enter again.\\n\")\n",
        "            continue\n",
        "\n",
        "        file_size = int(response.headers.get('content-length', 0))\n",
        "\n",
        "        file_size_mb = file_size / (1024 ** 2)\n",
        "        file_size_gb = file_size / (1024 ** 3)\n",
        "\n",
        "        file_size_str = f\"{file_size_mb:.2f} MB / {file_size_gb:.2f} GB\"\n",
        "\n",
        "        progress_bar = tqdm(total=file_size, unit='B', unit_scale=True, leave=True)\n",
        "\n",
        "        parsed_url = urlparse(user_input)\n",
        "        file_name = unquote(os.path.basename(parsed_url.path))\n",
        "\n",
        "        file_path = os.path.join(destination_folder, file_name)\n",
        "\n",
        "        start_time = time.time()\n",
        "\n",
        "        with open(file_path, 'wb') as file:\n",
        "            for chunk in response.iter_content(chunk_size=8192):\n",
        "                if chunk:\n",
        "                    file.write(chunk)\n",
        "                    progress_bar.update(len(chunk))\n",
        "                    sys.stdout.flush()\n",
        "\n",
        "        progress_bar.close()\n",
        "\n",
        "        end_time = time.time()\n",
        "        total_time = end_time - start_time\n",
        "\n",
        "        print()\n",
        "        print(f\"File name: {file_name}\")\n",
        "        print(f\"File size: {file_size_str}\")\n",
        "        print(f\"Total Time: {total_time:.2f} seconds\")\n",
        "        print(f\"Saved location: {file_path}\")\n",
        "        print(f\"File '{file_name}' uploaded successfully to '{destination_folder}'.\\n\")\n",
        "\n",
        "except Exception as e:\n",
        "    print(f\"An error occurred: {str(e)}\")\n",
        "    print(\"Exiting the program.\")\n",
        "\n",
        "print(\"Exiting the program.\")\n"
      ]
    }
  ],
  "metadata": {
    "colab": {
      "authorship_tag": "ABX9TyP40fcm70N1wi0dmqRlKVWR",
      "include_colab_link": true,
      "provenance": []
    },
    "kernelspec": {
      "display_name": "Python 3",
      "name": "python3"
    },
    "language_info": {
      "name": "python",
      "version": "3.8.9"
    }
  },
  "nbformat": 4,
  "nbformat_minor": 0
}
