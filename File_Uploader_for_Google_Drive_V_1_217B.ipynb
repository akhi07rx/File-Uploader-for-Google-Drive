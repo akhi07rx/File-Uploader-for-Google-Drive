{
  "cells": [
    {
      "attachments": {},
      "cell_type": "markdown",
      "metadata": {
        "colab_type": "text",
        "id": "view-in-github"
      },
      "source": [
        "<a href=\"https://colab.research.google.com/github/akhi07rx/File-Uploader-for-Google-Drive/blob/main/File_Uploader_for_Google_Drive_V_1_217B.ipynb\" target=\"_parent\"><img src=\"https://colab.research.google.com/assets/colab-badge.svg\" alt=\"Open In Colab\"/></a>"
      ]
    },
    {
      "cell_type": "code",
      "execution_count": null,
      "metadata": {
        "id": "Cd_zws8zoEIc"
      },
      "outputs": [
        {
          "ename": "",
          "evalue": "",
          "output_type": "error",
          "traceback": [
            "\u001b[1;31mRunning cells with 'c:\\msys64\\mingw64\\bin\\python.exe' requires the ipykernel package.\n",
            "\u001b[1;31mRun the following command to install 'ipykernel' into the Python environment. \n",
            "\u001b[1;31mCommand: 'c:/msys64/mingw64/bin/python.exe -m pip install ipykernel -U --user --force-reinstall'"
          ]
        }
      ],
      "source": [
        "from tqdm import tqdm\n",
        "import requests\n",
        "from google.colab import drive\n",
        "import os\n",
        "from urllib.parse import urlparse, unquote\n",
        "\n",
        "drive.mount('/content/drive')\n",
        "\n",
        "download_link = input(\"Enter the download link: \")\n",
        "\n",
        "destination_folder = '/content/drive/MyDrive/downloads/'\n",
        "\n",
        "if not os.path.exists(destination_folder):\n",
        "    os.makedirs(destination_folder)\n",
        "\n",
        "response = requests.head(download_link, allow_redirects=True)\n",
        "file_size = int(response.headers.get('content-length', 0))\n",
        "progress_bar = tqdm(total=file_size, unit='B', unit_scale=True)\n",
        "\n",
        "parsed_url = urlparse(download_link)\n",
        "file_name = unquote(parsed_url.path.split('/')[-1])\n",
        "\n",
        "response = requests.get(download_link, stream=True)\n",
        "response.raise_for_status()\n",
        "\n",
        "file_path = os.path.join(destination_folder, file_name)\n",
        "with open(file_path, 'wb') as file:\n",
        "    for chunk in response.iter_content(chunk_size=8192):\n",
        "        if chunk:\n",
        "            file.write(chunk)\n",
        "            progress_bar.update(len(chunk))\n",
        "\n",
        "progress_bar.close()\n",
        "\n",
        "print(f\"File '{file_name}' uploaded successfully to '{destination_folder}'.\")\n"
      ]
    }
  ],
  "metadata": {
    "colab": {
      "authorship_tag": "ABX9TyP40fcm70N1wi0dmqRlKVWR",
      "include_colab_link": true,
      "provenance": []
    },
    "kernelspec": {
      "display_name": "Python 3",
      "name": "python3"
    },
    "language_info": {
      "name": "python",
      "version": "3.8.9"
    }
  },
  "nbformat": 4,
  "nbformat_minor": 0
}
