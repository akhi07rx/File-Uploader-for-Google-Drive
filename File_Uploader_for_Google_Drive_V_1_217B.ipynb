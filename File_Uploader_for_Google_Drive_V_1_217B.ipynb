{
  "nbformat": 4,
  "nbformat_minor": 0,
  "metadata": {
    "colab": {
      "provenance": [],
      "authorship_tag": "ABX9TyP40fcm70N1wi0dmqRlKVWR",
      "include_colab_link": true
    },
    "kernelspec": {
      "name": "python3",
      "display_name": "Python 3"
    },
    "language_info": {
      "name": "python"
    }
  },
  "cells": [
    {
      "cell_type": "markdown",
      "metadata": {
        "id": "view-in-github",
        "colab_type": "text"
      },
      "source": [
        "<a href=\"https://colab.research.google.com/github/akhi07rx/File-Uploader-for-Google-Drive/blob/main/File_Uploader_for_Google_Drive_V_1_217B.ipynb\" target=\"_parent\"><img src=\"https://colab.research.google.com/assets/colab-badge.svg\" alt=\"Open In Colab\"/></a>"
      ]
    },
    {
      "cell_type": "code",
      "execution_count": null,
      "metadata": {
        "id": "Cd_zws8zoEIc"
      },
      "outputs": [],
      "source": [
        "from tqdm import tqdm\n",
        "import requests\n",
        "from google.colab import drive\n",
        "import os\n",
        "from urllib.parse import urlparse, unquote\n",
        "\n",
        "# Mount Google Drive\n",
        "drive.mount('/content/drive')\n",
        "\n",
        "# Define the download link\n",
        "download_link = input(\"Enter the download link: \")\n",
        "\n",
        "# Define the destination folder in Google Drive\n",
        "destination_folder = '/content/drive/MyDrive/Downloads/'\n",
        "\n",
        "# Set up the progress bar\n",
        "response = requests.head(download_link, allow_redirects=True)\n",
        "file_size = int(response.headers.get('content-length', 0))\n",
        "progress_bar = tqdm(total=file_size, unit='B', unit_scale=True)\n",
        "\n",
        "# Parse the download link to extract the file name\n",
        "parsed_url = urlparse(download_link)\n",
        "file_name = unquote(parsed_url.path.split('/')[-1])\n",
        "\n",
        "# Download the file\n",
        "response = requests.get(download_link, stream=True)\n",
        "response.raise_for_status()\n",
        "\n",
        "# Upload the file to Google Drive with the same name\n",
        "file_path = os.path.join(destination_folder, file_name)\n",
        "with open(file_path, 'wb') as file:\n",
        "    for chunk in response.iter_content(chunk_size=8192):\n",
        "        if chunk:\n",
        "            file.write(chunk)\n",
        "            progress_bar.update(len(chunk))\n",
        "\n",
        "# Close the progress bar\n",
        "progress_bar.close()\n",
        "\n",
        "print(f\"File '{file_name}' uploaded successfully to '{destination_folder}'.\")\n"
      ]
    }
  ]
}